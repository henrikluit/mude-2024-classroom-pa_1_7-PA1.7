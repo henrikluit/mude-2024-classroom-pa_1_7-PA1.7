{
 "cells": [
  {
   "cell_type": "markdown",
   "id": "c96d6259-08d6-4289-aea2-589d67cdb5ee",
   "metadata": {},
   "source": [
    "# PA 1.7: Classy Distributions\n",
    "\n",
    "<h1 style=\"position: absolute; display: flex; flex-grow: 0; flex-shrink: 0; flex-direction: row-reverse; top: 60px;right: 30px; margin: 0; border: 0\">\n",
    "    <style>\n",
    "        .markdown {width:100%; position: relative}\n",
    "        article { position: relative }\n",
    "    </style>\n",
    "    <img src=\"https://gitlab.tudelft.nl/mude/public/-/raw/main/tu-logo/TU_P1_full-color.png\" style=\"width:100px\" />\n",
    "    <img src=\"https://gitlab.tudelft.nl/mude/public/-/raw/main/mude-logo/MUDE_Logo-small.png\" style=\"width:100px\" />\n",
    "</h1>\n",
    "<h2 style=\"height: 10px\">\n",
    "</h2>\n",
    "\n",
    "*[CEGM1000 MUDE](http://mude.citg.tudelft.nl/): Week 1.7. Due: complete this PA prior to class on Friday, Oct 18, 2024.*"
   ]
  },
  {
   "cell_type": "markdown",
   "id": "52730a9d",
   "metadata": {},
   "source": [
    "## Overview of Assignment\n",
    "\n",
    "This assignment will help you understand more about Object Oriented Programming (OOP) in Python, by exploring how it's used in Scipy. In Python, OOP is done through classes, so you'll learn a bit about how classes can be useful and how to define and instantiate them. You will also learn about subclassing, otherwise known as inheritance, which is the ability for one (child) class to inherit the properties of another (parent) class."
   ]
  },
  {
   "cell_type": "markdown",
   "id": "c3cd5017-10e0-4b64-ad1a-b626d80a128a",
   "metadata": {
    "tags": []
   },
   "source": [
    "## Part 1: Playing with subclasses\n",
    "\n",
    "We'll start by looking at some simple code that shows all the basics: defining a class, instantiating classes and inheritance. You're not required to do anything with it, but feel free to change this and play around!"
   ]
  },
  {
   "cell_type": "code",
   "execution_count": 1,
   "id": "f9be8015",
   "metadata": {},
   "outputs": [],
   "source": [
    "class Person:\n",
    "    def __init__(self, name):\n",
    "        self.name = name\n",
    "    \n",
    "    def say_hello(self):\n",
    "        print(f\"Hey, I'm {self.name}, nice to meet you!\")\n",
    "\n",
    "class Employee(Person):\n",
    "    known_salaries = {\"janitor\": 50000, \"professor\": 100, \"trader\": 100000}\n",
    "    \n",
    "    def __init__(self, name, job):\n",
    "        super().__init__(name)\n",
    "        self.job = job\n",
    "    \n",
    "    def salary(self):\n",
    "        if self.job.lower() in self.known_salaries:\n",
    "            print(f\"My salary is ${self.known_salaries[self.job.lower()]}!\")\n",
    "        else:\n",
    "            print(\"I'm not too sure what my salary is :(\")\n",
    "\n",
    "class Friend(Person):\n",
    "    def say_hello(self):\n",
    "        print(\"Yoo, how are you doing? It's lovely to see you again :)\")\n",
    "\n",
    "def greet_person(person):\n",
    "    person.say_hello()\n",
    "    print(f\"Hey {person.name}!\")"
   ]
  },
  {
   "cell_type": "code",
   "execution_count": null,
   "id": "4c9f518b",
   "metadata": {},
   "outputs": [],
   "source": [
    "james = Person(\"James\")\n",
    "james.say_hello()\n",
    "print()\n",
    "\n",
    "emma = Employee(\"Emma\", \"Janitor\")\n",
    "emma.salary()\n",
    "emma.say_hello()\n",
    "print()\n",
    "\n",
    "philip = Friend(\"Philip\")\n",
    "greet_person(philip)\n",
    "print()\n",
    "greet_person(emma)"
   ]
  },
  {
   "cell_type": "markdown",
   "id": "1aea73d7",
   "metadata": {},
   "source": [
    "Notice that Emma can say hello, but James doesn't have a salary! The children class *extends* the parent. Confused about the `__init__` or `self`? Go check out the [reading](#Reading)! Also notice that since the `Friend` subclass and `Employee` subclasses both have `say_hello`, we can use either one in the `greet_person` function. You'll use this princople to complete **Task 1.1**."
   ]
  },
  {
   "cell_type": "markdown",
   "id": "3639a4a8",
   "metadata": {},
   "source": [
    "## Part 2: Inheritance and Distributions\n",
    "\n",
    "In this part we will use inheritance to create our own custom distribution using the parent class `scipy.stats.rv_continuous`!\n",
    "\n",
    "First we will define a function to help make plots easily, then we will confirm we can create a distribution. Finally, you will implement your own child class of `scipy.stats.rv_continuous`."
   ]
  },
  {
   "cell_type": "markdown",
   "id": "79fd66e0",
   "metadata": {},
   "source": [
    "<div style=\"background-color:#AABAB2; color: black; width:95%; vertical-align: middle; padding:15px; margin: 10px; border-radius: 10px\">\n",
    "<p>\n",
    "<b>Task 1.1:</b>   \n",
    "Below there's some code that takes a distribution from Scipy and plots it. Read it to understand what it does, then run the cell so that we can use it later.\n",
    "</p>\n",
    "</div>"
   ]
  },
  {
   "cell_type": "code",
   "execution_count": 14,
   "id": "201d0c93",
   "metadata": {},
   "outputs": [],
   "source": [
    "# DO NOT TOUCH ANYTHING IN THIS CODE CELL!\n",
    "\n",
    "import scipy.stats\n",
    "import numpy as np\n",
    "import matplotlib.pyplot as plt\n",
    "import pandas as pd\n",
    "\n",
    "def plot_distribution(distribution, x_bounds = (-5, 5), function=\"pdf\"):\n",
    "    X_LOW, X_HIGH = x_bounds\n",
    "\n",
    "    x_axis = np.linspace(X_LOW, X_HIGH, num=1000)\n",
    "    \n",
    "    distribution_function = None\n",
    "    \n",
    "    if function == \"pdf\":\n",
    "        distribution_function = distribution.pdf\n",
    "    elif function == \"cdf\":\n",
    "        distribution_function = distribution.cdf\n",
    "    else:\n",
    "        raise KeyError(f\"{function} function not supported\")\n",
    "    \n",
    "    y_axis = np.vectorize(distribution_function)(x_axis)\n",
    "\n",
    "    plt.figure(figsize=(15, 5))\n",
    "    plt.plot(x_axis, y_axis)\n",
    "    plt.title(\"PDF of distribution\")\n",
    "    plt.xlabel(\"x\")\n",
    "    plt.xticks(np.linspace(X_LOW, X_HIGH, num=((X_HIGH - X_LOW) * 2 + 1)))\n",
    "    plt.ylabel(\"f(x)\")\n",
    "    plt.show()\n",
    "    \n",
    "    return x_axis, y_axis"
   ]
  },
  {
   "cell_type": "markdown",
   "id": "66cf5e06",
   "metadata": {},
   "source": [
    "In Scipy all distributions are children of the same parent class [`rv_continous`](https://docs.scipy.org/doc/scipy/reference/generated/scipy.stats.rv_continuous.html#scipy.stats.rv_continuous). Read the documentation to get a feeling for what this parent class defines. One method it defines is the `.pdf` method, so if we just rely on that, we can freely swap between children classes!"
   ]
  },
  {
   "cell_type": "markdown",
   "id": "26bbae88",
   "metadata": {},
   "source": [
    "<div style=\"background-color:#AABAB2; color: black; width:95%; vertical-align: middle; padding:15px; margin: 10px; border-radius: 10px\">\n",
    "<p>\n",
    "<b>Task 1.2:</b>   \n",
    "Below there's some code that takes a Normal distribution from Scipy and plots it, using our function. Pretty cool, right?\n",
    "\n",
    "Test your understanding of this distribution by changing the standard deviation to 3 instead of 1. Does the figure respond as expected?\n",
    "</p>\n",
    "</div>"
   ]
  },
  {
   "cell_type": "code",
   "execution_count": null,
   "id": "1310dca9-dc46-4ab1-ab78-0a5389191cfc",
   "metadata": {
    "tags": []
   },
   "outputs": [],
   "source": [
    "distribution = scipy.stats.norm(loc = 1)\n",
    "x_axis, y_axis = plot_distribution(distribution)"
   ]
  },
  {
   "cell_type": "markdown",
   "id": "ec8106b5",
   "metadata": {},
   "source": [
    "<div style=\"background-color:#AABAB2; color: black; width:95%; vertical-align: middle; padding:15px; margin: 10px; border-radius: 10px\">\n",
    "<p>\n",
    "<b>Task 1.3:</b>   \n",
    "Complete the code below to create your own Uniform distribution from 1 to 3 and use the plotting function to confirm you have done it correctly.\n",
    "</p>\n",
    "</div>"
   ]
  },
  {
   "cell_type": "markdown",
   "id": "d4c4eb2d",
   "metadata": {},
   "source": [
    "<div style=\"background-color:#facb8e; color: black; width:95%; vertical-align: middle; padding:15px; margin: 10px; border-radius: 10px\"> <p>At this point, it becomes important that you understand what a continuous parametric distribution is. If you have no idea what we are talking about, it is time to read the theory textbook chapters for this week!</p></div>"
   ]
  },
  {
   "cell_type": "code",
   "execution_count": null,
   "id": "094b5e95-8d29-4f47-ab24-fab46ab248df",
   "metadata": {
    "tags": []
   },
   "outputs": [],
   "source": [
    "distribution = scipy.stats.uniform(YOUR_CODE_HERE)\n",
    "x_axis, y_axis = plot_distribution(distribution)"
   ]
  },
  {
   "cell_type": "markdown",
   "id": "71f359cf-62de-4879-b584-64f4eb38ec60",
   "metadata": {},
   "source": [
    "## Part 3: Making a subclass\n",
    "\n",
    "No let's see if we can define our own distribution! We can do this by creating a subclass of `rv_continous`. Reading documentation can be difficult to begin with, but try and see if you can think of how this would be done."
   ]
  },
  {
   "cell_type": "markdown",
   "id": "1831e59e-5863-4cff-91d7-2bfaa8274a64",
   "metadata": {},
   "source": [
    "<div style=\"background-color:#AABAB2; color: black; width:95%; vertical-align: middle; padding:15px; margin: 10px; border-radius: 10px\">\n",
    "<p>\n",
    "<b>Task 3.1:</b>   \n",
    "Complete the implementation of the subclass below, so that the pdf is defined as follows:\n",
    "\n",
    "\\begin{equation}\n",
    "f(x)=\n",
    "    \\begin{cases}\n",
    "        0.1 & \\text{if } 0 < x < 3.6 \\\\\n",
    "        2(x-5) &  5 < x < 5.8 \\\\\n",
    "        0 & \\text{elsewhere}\n",
    "    \\end{cases}\n",
    "\\end{equation}\n",
    "    \n",
    "You don't need to worry about the `scale` or `loc` parameters we used earlier.\n",
    "</p>\n",
    "</div>"
   ]
  },
  {
   "cell_type": "code",
   "execution_count": 5,
   "id": "c70588ec",
   "metadata": {},
   "outputs": [],
   "source": [
    "class new_distribution(YOUR_CODE_HERE):\n",
    "    \"\"\" A new piece-wise distribution.\"\"\"\n",
    "    \n",
    "    def _pdf(self, x):\n",
    "        \"\"\" f(x) = \n",
    "            0.1      when 0 < x < 3.6\n",
    "            2(x - 5) when 5 < x < 5.8\n",
    "        \"\"\"\n",
    "\n",
    "        YOUR_CODE_HERE # MORE THAN ONE LINE!\n",
    "        \n",
    "        return YOUR_CODE_HERE"
   ]
  },
  {
   "cell_type": "markdown",
   "id": "4a7f6ab3-7378-436d-9453-fdf097e54f45",
   "metadata": {},
   "source": [
    "<div style=\"background-color:#facb8e; color: black; width:95%; vertical-align: middle; padding:15px; margin: 10px; border-radius: 10px\"> <p>There is an <code>IntegrationWarning</code> that appears when integrating this PDF, which we can supress as follows. This works here on the last step, but you should use it with caution in other applications!</p></div>"
   ]
  },
  {
   "cell_type": "code",
   "execution_count": 6,
   "id": "195ad9cd-b229-46a6-963a-1970777a4a0a",
   "metadata": {},
   "outputs": [],
   "source": [
    "import warnings\n",
    "warnings.simplefilter(\"ignore\")"
   ]
  },
  {
   "cell_type": "markdown",
   "id": "709eb92c",
   "metadata": {},
   "source": [
    "<div style=\"background-color:#AABAB2; color: black; width:95%; vertical-align: middle; padding:15px; margin: 10px; border-radius: 10px\">\n",
    "<p>\n",
    "<b>Task 3.2:</b>   \n",
    "\n",
    "Use the plotting function to check that you implemented the class correctly. You need to do this by instantiating the class in the missing piece of code.\n",
    "</p>\n",
    "</div>"
   ]
  },
  {
   "cell_type": "code",
   "execution_count": null,
   "id": "5f5b4b89",
   "metadata": {},
   "outputs": [],
   "source": [
    "plot_distribution(YOUR_CODE_HERE, x_bounds = (0, 6))\n",
    "plot_distribution(YOUR_CODE_HERE, x_bounds = (0, 6), function=\"cdf\")\n",
    "print()"
   ]
  },
  {
   "cell_type": "markdown",
   "id": "d4d887c2",
   "metadata": {},
   "source": [
    "Even the CDF of our custom distribution works! There's a lot of magic that can be accomplished with classes, which you won't need to known for MUDE, but this foundation will help you understand it the day you do!"
   ]
  },
  {
   "cell_type": "markdown",
   "id": "00ce3307",
   "metadata": {},
   "source": [
    "**End of notebook.**\n",
    "<h2 style=\"height: 60px\">\n",
    "</h2>\n",
    "<h3 style=\"position: absolute; display: flex; flex-grow: 0; flex-shrink: 0; flex-direction: row-reverse; bottom: 60px; right: 50px; margin: 0; border: 0\">\n",
    "    <style>\n",
    "        .markdown {width:100%; position: relative}\n",
    "        article { position: relative }\n",
    "    </style>\n",
    "    <a rel=\"license\" href=\"http://creativecommons.org/licenses/by/4.0/\">\n",
    "      <img alt=\"Creative Commons License\" style=\"border-width:; width:88px; height:auto; padding-top:10px\" src=\"https://i.creativecommons.org/l/by/4.0/88x31.png\" />\n",
    "    </a>\n",
    "    <a rel=\"TU Delft\" href=\"https://www.tudelft.nl/en/ceg\">\n",
    "      <img alt=\"TU Delft\" style=\"border-width:0; width:100px; height:auto; padding-bottom:0px\" src=\"https://gitlab.tudelft.nl/mude/public/-/raw/main/tu-logo/TU_P1_full-color.png\" />\n",
    "    </a>\n",
    "    <a rel=\"MUDE\" href=\"http://mude.citg.tudelft.nl/\">\n",
    "      <img alt=\"MUDE\" style=\"border-width:0; width:100px; height:auto; padding-bottom:0px\" src=\"https://gitlab.tudelft.nl/mude/public/-/raw/main/mude-logo/MUDE_Logo-small.png\" />\n",
    "    </a>\n",
    "    \n",
    "</h3>\n",
    "<span style=\"font-size: 75%\">\n",
    "&copy; Copyright 2024 <a rel=\"MUDE\" href=\"http://mude.citg.tudelft.nl/\">MUDE</a> TU Delft. This work is licensed under a <a rel=\"license\" href=\"http://creativecommons.org/licenses/by/4.0/\">CC BY 4.0 License</a>."
   ]
  }
 ],
 "metadata": {
  "kernelspec": {
   "display_name": "mude-base",
   "language": "python",
   "name": "python3"
  },
  "language_info": {
   "codemirror_mode": {
    "name": "ipython",
    "version": 3
   },
   "file_extension": ".py",
   "mimetype": "text/x-python",
   "name": "python",
   "nbconvert_exporter": "python",
   "pygments_lexer": "ipython3",
   "version": "3.12.4"
  },
  "widgets": {
   "application/vnd.jupyter.widget-state+json": {
    "state": {},
    "version_major": 2,
    "version_minor": 0
   }
  }
 },
 "nbformat": 4,
 "nbformat_minor": 5
}
